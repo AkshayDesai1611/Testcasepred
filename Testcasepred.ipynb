{
 "cells": [
  {
   "cell_type": "code",
   "execution_count": 1,
   "id": "373314fa",
   "metadata": {},
   "outputs": [],
   "source": [
    "import pandas as pd\n",
    "import numpy as np\n",
    "import matplotlib.pyplot as plt\n",
    "import seaborn as sns\n",
    "from sklearn.preprocessing import StandardScaler\n",
    "from statsmodels.stats.outliers_influence import  variance_inflation_factor"
   ]
  },
  {
   "cell_type": "code",
   "execution_count": 2,
   "id": "4dfa93d5",
   "metadata": {},
   "outputs": [],
   "source": [
    "df = pd.read_excel(\"Testcase.xlsx\")"
   ]
  },
  {
   "cell_type": "code",
   "execution_count": 3,
   "id": "555185e3",
   "metadata": {
    "scrolled": true
   },
   "outputs": [
    {
     "data": {
      "text/html": [
       "<div>\n",
       "<style scoped>\n",
       "    .dataframe tbody tr th:only-of-type {\n",
       "        vertical-align: middle;\n",
       "    }\n",
       "\n",
       "    .dataframe tbody tr th {\n",
       "        vertical-align: top;\n",
       "    }\n",
       "\n",
       "    .dataframe thead th {\n",
       "        text-align: right;\n",
       "    }\n",
       "</style>\n",
       "<table border=\"1\" class=\"dataframe\">\n",
       "  <thead>\n",
       "    <tr style=\"text-align: right;\">\n",
       "      <th></th>\n",
       "      <th>S.No</th>\n",
       "      <th>Project_Size</th>\n",
       "      <th>Project_Complexity</th>\n",
       "      <th>Requirements</th>\n",
       "      <th>Systems_with_func_change</th>\n",
       "      <th>Systems_with_config_change</th>\n",
       "      <th>Systems_with_no_change</th>\n",
       "      <th>Total_test_case</th>\n",
       "      <th>Unnamed: 8</th>\n",
       "    </tr>\n",
       "  </thead>\n",
       "  <tbody>\n",
       "    <tr>\n",
       "      <th>0</th>\n",
       "      <td>49</td>\n",
       "      <td>Small</td>\n",
       "      <td>Medium</td>\n",
       "      <td>35</td>\n",
       "      <td>1</td>\n",
       "      <td>0</td>\n",
       "      <td>3</td>\n",
       "      <td>23</td>\n",
       "      <td>NaN</td>\n",
       "    </tr>\n",
       "    <tr>\n",
       "      <th>1</th>\n",
       "      <td>1</td>\n",
       "      <td>Small</td>\n",
       "      <td>Medium</td>\n",
       "      <td>40</td>\n",
       "      <td>0</td>\n",
       "      <td>2</td>\n",
       "      <td>1</td>\n",
       "      <td>28</td>\n",
       "      <td>NaN</td>\n",
       "    </tr>\n",
       "    <tr>\n",
       "      <th>2</th>\n",
       "      <td>55</td>\n",
       "      <td>Small</td>\n",
       "      <td>Complex</td>\n",
       "      <td>45</td>\n",
       "      <td>1</td>\n",
       "      <td>1</td>\n",
       "      <td>1</td>\n",
       "      <td>40</td>\n",
       "      <td>NaN</td>\n",
       "    </tr>\n",
       "    <tr>\n",
       "      <th>3</th>\n",
       "      <td>34</td>\n",
       "      <td>Small</td>\n",
       "      <td>Complex</td>\n",
       "      <td>49</td>\n",
       "      <td>1</td>\n",
       "      <td>0</td>\n",
       "      <td>3</td>\n",
       "      <td>35</td>\n",
       "      <td>NaN</td>\n",
       "    </tr>\n",
       "    <tr>\n",
       "      <th>4</th>\n",
       "      <td>5</td>\n",
       "      <td>Small</td>\n",
       "      <td>Complex</td>\n",
       "      <td>53</td>\n",
       "      <td>0</td>\n",
       "      <td>1</td>\n",
       "      <td>2</td>\n",
       "      <td>34</td>\n",
       "      <td>NaN</td>\n",
       "    </tr>\n",
       "  </tbody>\n",
       "</table>\n",
       "</div>"
      ],
      "text/plain": [
       "   S.No Project_Size Project_Complexity  Requirements  \\\n",
       "0    49        Small             Medium            35   \n",
       "1     1        Small             Medium            40   \n",
       "2    55        Small            Complex            45   \n",
       "3    34        Small            Complex            49   \n",
       "4     5        Small            Complex            53   \n",
       "\n",
       "   Systems_with_func_change  Systems_with_config_change  \\\n",
       "0                         1                           0   \n",
       "1                         0                           2   \n",
       "2                         1                           1   \n",
       "3                         1                           0   \n",
       "4                         0                           1   \n",
       "\n",
       "   Systems_with_no_change  Total_test_case  Unnamed: 8  \n",
       "0                       3               23         NaN  \n",
       "1                       1               28         NaN  \n",
       "2                       1               40         NaN  \n",
       "3                       3               35         NaN  \n",
       "4                       2               34         NaN  "
      ]
     },
     "execution_count": 3,
     "metadata": {},
     "output_type": "execute_result"
    }
   ],
   "source": [
    "df.head()"
   ]
  },
  {
   "cell_type": "code",
   "execution_count": 4,
   "id": "a9a1f0a2",
   "metadata": {},
   "outputs": [
    {
     "data": {
      "text/plain": [
       "Medium    236\n",
       "Small     174\n",
       "Large     160\n",
       "Name: Project_Size, dtype: int64"
      ]
     },
     "execution_count": 4,
     "metadata": {},
     "output_type": "execute_result"
    }
   ],
   "source": [
    "df['Project_Size'].value_counts()"
   ]
  },
  {
   "cell_type": "code",
   "execution_count": 5,
   "id": "49d59fe3",
   "metadata": {},
   "outputs": [
    {
     "data": {
      "text/plain": [
       "Medium     268\n",
       "Complex    230\n",
       "Simple      71\n",
       "Simple       1\n",
       "Name: Project_Complexity, dtype: int64"
      ]
     },
     "execution_count": 5,
     "metadata": {},
     "output_type": "execute_result"
    }
   ],
   "source": [
    "df['Project_Complexity'].value_counts()"
   ]
  },
  {
   "cell_type": "code",
   "execution_count": 6,
   "id": "ab881acb",
   "metadata": {},
   "outputs": [
    {
     "data": {
      "text/plain": [
       "S.No                            0\n",
       "Project_Size                    0\n",
       "Project_Complexity              0\n",
       "Requirements                    0\n",
       "Systems_with_func_change        0\n",
       "Systems_with_config_change      0\n",
       "Systems_with_no_change          0\n",
       "Total_test_case                 0\n",
       "Unnamed: 8                    570\n",
       "dtype: int64"
      ]
     },
     "execution_count": 6,
     "metadata": {},
     "output_type": "execute_result"
    }
   ],
   "source": [
    "df.isnull().sum()"
   ]
  },
  {
   "cell_type": "code",
   "execution_count": 7,
   "id": "26e25d4d",
   "metadata": {},
   "outputs": [],
   "source": [
    "df.drop(['Unnamed: 8'],axis=1,inplace=True)"
   ]
  },
  {
   "cell_type": "code",
   "execution_count": 8,
   "id": "5e9f5255",
   "metadata": {},
   "outputs": [
    {
     "data": {
      "text/plain": [
       "<AxesSubplot:>"
      ]
     },
     "execution_count": 8,
     "metadata": {},
     "output_type": "execute_result"
    },
    {
     "data": {
      "image/png": "[encoded data removed]",
      "text/plain": [
       "<Figure size 432x288 with 1 Axes>"
      ]
     },
     "metadata": {
      "needs_background": "light"
     },
     "output_type": "display_data"
    }
   ],
   "source": [
    "sns.boxplot(data=df,orient='h',palette='Set2')"
   ]
  },
  {
   "cell_type": "code",
   "execution_count": 9,
   "id": "d345ae73",
   "metadata": {},
   "outputs": [],
   "source": [
    "from sklearn.preprocessing import LabelEncoder\n",
    "lb = LabelEncoder()"
   ]
  },
  {
   "cell_type": "code",
   "execution_count": 10,
   "id": "dd898b31",
   "metadata": {},
   "outputs": [],
   "source": [
    "for column_name in df.columns:\n",
    "    if df[column_name].dtype==object:\n",
    "        df[column_name]=lb.fit_transform(df[column_name])\n",
    "    else:\n",
    "        pass        "
   ]
  },
  {
   "cell_type": "code",
   "execution_count": 11,
   "id": "836414fd",
   "metadata": {},
   "outputs": [
    {
     "data": {
      "text/html": [
       "<div>\n",
       "<style scoped>\n",
       "    .dataframe tbody tr th:only-of-type {\n",
       "        vertical-align: middle;\n",
       "    }\n",
       "\n",
       "    .dataframe tbody tr th {\n",
       "        vertical-align: top;\n",
       "    }\n",
       "\n",
       "    .dataframe thead th {\n",
       "        text-align: right;\n",
       "    }\n",
       "</style>\n",
       "<table border=\"1\" class=\"dataframe\">\n",
       "  <thead>\n",
       "    <tr style=\"text-align: right;\">\n",
       "      <th></th>\n",
       "      <th>S.No</th>\n",
       "      <th>Project_Size</th>\n",
       "      <th>Project_Complexity</th>\n",
       "      <th>Requirements</th>\n",
       "      <th>Systems_with_func_change</th>\n",
       "      <th>Systems_with_config_change</th>\n",
       "      <th>Systems_with_no_change</th>\n",
       "      <th>Total_test_case</th>\n",
       "    </tr>\n",
       "  </thead>\n",
       "  <tbody>\n",
       "    <tr>\n",
       "      <th>0</th>\n",
       "      <td>49</td>\n",
       "      <td>2</td>\n",
       "      <td>1</td>\n",
       "      <td>35</td>\n",
       "      <td>1</td>\n",
       "      <td>0</td>\n",
       "      <td>3</td>\n",
       "      <td>23</td>\n",
       "    </tr>\n",
       "    <tr>\n",
       "      <th>1</th>\n",
       "      <td>1</td>\n",
       "      <td>2</td>\n",
       "      <td>1</td>\n",
       "      <td>40</td>\n",
       "      <td>0</td>\n",
       "      <td>2</td>\n",
       "      <td>1</td>\n",
       "      <td>28</td>\n",
       "    </tr>\n",
       "    <tr>\n",
       "      <th>2</th>\n",
       "      <td>55</td>\n",
       "      <td>2</td>\n",
       "      <td>0</td>\n",
       "      <td>45</td>\n",
       "      <td>1</td>\n",
       "      <td>1</td>\n",
       "      <td>1</td>\n",
       "      <td>40</td>\n",
       "    </tr>\n",
       "    <tr>\n",
       "      <th>3</th>\n",
       "      <td>34</td>\n",
       "      <td>2</td>\n",
       "      <td>0</td>\n",
       "      <td>49</td>\n",
       "      <td>1</td>\n",
       "      <td>0</td>\n",
       "      <td>3</td>\n",
       "      <td>35</td>\n",
       "    </tr>\n",
       "    <tr>\n",
       "      <th>4</th>\n",
       "      <td>5</td>\n",
       "      <td>2</td>\n",
       "      <td>0</td>\n",
       "      <td>53</td>\n",
       "      <td>0</td>\n",
       "      <td>1</td>\n",
       "      <td>2</td>\n",
       "      <td>34</td>\n",
       "    </tr>\n",
       "  </tbody>\n",
       "</table>\n",
       "</div>"
      ],
      "text/plain": [
       "   S.No  Project_Size  Project_Complexity  Requirements  \\\n",
       "0    49             2                   1            35   \n",
       "1     1             2                   1            40   \n",
       "2    55             2                   0            45   \n",
       "3    34             2                   0            49   \n",
       "4     5             2                   0            53   \n",
       "\n",
       "   Systems_with_func_change  Systems_with_config_change  \\\n",
       "0                         1                           0   \n",
       "1                         0                           2   \n",
       "2                         1                           1   \n",
       "3                         1                           0   \n",
       "4                         0                           1   \n",
       "\n",
       "   Systems_with_no_change  Total_test_case  \n",
       "0                       3               23  \n",
       "1                       1               28  \n",
       "2                       1               40  \n",
       "3                       3               35  \n",
       "4                       2               34  "
      ]
     },
     "execution_count": 11,
     "metadata": {},
     "output_type": "execute_result"
    }
   ],
   "source": [
    "df.head()"
   ]
  },
  {
   "cell_type": "code",
   "execution_count": 12,
   "id": "5959dfc8",
   "metadata": {},
   "outputs": [],
   "source": [
    "df.drop(['S.No'],axis=1,inplace=True)"
   ]
  },
  {
   "cell_type": "code",
   "execution_count": 13,
   "id": "c2d65a91",
   "metadata": {},
   "outputs": [],
   "source": [
    "#Input Output split\n",
    "y = df.iloc[:,6]\n",
    "x = df.iloc[:,df.columns!='Total_test_case']"
   ]
  },
  {
   "cell_type": "code",
   "execution_count": null,
   "id": "5690c08c",
   "metadata": {},
   "outputs": [],
   "source": []
  },
  {
   "cell_type": "code",
   "execution_count": null,
   "id": "a373fb5a",
   "metadata": {},
   "outputs": [],
   "source": []
  },
  {
   "cell_type": "code",
   "execution_count": 14,
   "id": "a601e974",
   "metadata": {},
   "outputs": [],
   "source": [
    "def vif_score(x):\n",
    "    scaler = StandardScaler()\n",
    "    arr = scaler.fit_transform(x)\n",
    "    return pd.DataFrame([[x.columns[i],variance_inflation_factor(arr,i)] for i in range(arr.shape[1])],columns = [\"Feature\",\"VIF_SCORE\"])                     \n",
    "    "
   ]
  },
  {
   "cell_type": "code",
   "execution_count": 15,
   "id": "76f5cfaa",
   "metadata": {},
   "outputs": [
    {
     "data": {
      "text/html": [
       "<div>\n",
       "<style scoped>\n",
       "    .dataframe tbody tr th:only-of-type {\n",
       "        vertical-align: middle;\n",
       "    }\n",
       "\n",
       "    .dataframe tbody tr th {\n",
       "        vertical-align: top;\n",
       "    }\n",
       "\n",
       "    .dataframe thead th {\n",
       "        text-align: right;\n",
       "    }\n",
       "</style>\n",
       "<table border=\"1\" class=\"dataframe\">\n",
       "  <thead>\n",
       "    <tr style=\"text-align: right;\">\n",
       "      <th></th>\n",
       "      <th>Feature</th>\n",
       "      <th>VIF_SCORE</th>\n",
       "    </tr>\n",
       "  </thead>\n",
       "  <tbody>\n",
       "    <tr>\n",
       "      <th>0</th>\n",
       "      <td>Project_Size</td>\n",
       "      <td>15.819593</td>\n",
       "    </tr>\n",
       "    <tr>\n",
       "      <th>1</th>\n",
       "      <td>Project_Complexity</td>\n",
       "      <td>3.343921</td>\n",
       "    </tr>\n",
       "    <tr>\n",
       "      <th>2</th>\n",
       "      <td>Requirements</td>\n",
       "      <td>26.064410</td>\n",
       "    </tr>\n",
       "    <tr>\n",
       "      <th>3</th>\n",
       "      <td>Systems_with_func_change</td>\n",
       "      <td>2.700807</td>\n",
       "    </tr>\n",
       "    <tr>\n",
       "      <th>4</th>\n",
       "      <td>Systems_with_config_change</td>\n",
       "      <td>5.226820</td>\n",
       "    </tr>\n",
       "    <tr>\n",
       "      <th>5</th>\n",
       "      <td>Systems_with_no_change</td>\n",
       "      <td>7.602245</td>\n",
       "    </tr>\n",
       "  </tbody>\n",
       "</table>\n",
       "</div>"
      ],
      "text/plain": [
       "                      Feature  VIF_SCORE\n",
       "0                Project_Size  15.819593\n",
       "1          Project_Complexity   3.343921\n",
       "2                Requirements  26.064410\n",
       "3    Systems_with_func_change   2.700807\n",
       "4  Systems_with_config_change   5.226820\n",
       "5      Systems_with_no_change   7.602245"
      ]
     },
     "execution_count": 15,
     "metadata": {},
     "output_type": "execute_result"
    }
   ],
   "source": [
    "vif_score(x)"
   ]
  },
  {
   "cell_type": "code",
   "execution_count": 16,
   "id": "81b67ba0",
   "metadata": {},
   "outputs": [],
   "source": [
    "#Input output split\n",
    "from sklearn.model_selection import train_test_split\n",
    "x_train,x_test,y_train,y_test = train_test_split(x,y,test_size = 0.2)"
   ]
  },
  {
   "cell_type": "code",
   "execution_count": 17,
   "id": "35216741",
   "metadata": {},
   "outputs": [],
   "source": [
    "from sklearn.tree import DecisionTreeRegressor\n",
    "DT = DecisionTreeRegressor()"
   ]
  },
  {
   "cell_type": "code",
   "execution_count": 18,
   "id": "48311f03",
   "metadata": {},
   "outputs": [],
   "source": [
    "dt_model = DT.fit(x_train,y_train)"
   ]
  },
  {
   "cell_type": "code",
   "execution_count": 19,
   "id": "6cd93938",
   "metadata": {},
   "outputs": [],
   "source": [
    "dt_ypred = dt_model.predict(x_test)"
   ]
  },
  {
   "cell_type": "code",
   "execution_count": 20,
   "id": "b8cabdbe",
   "metadata": {},
   "outputs": [],
   "source": [
    "from sklearn.metrics import r2_score\n",
    "from sklearn.metrics import mean_squared_error"
   ]
  },
  {
   "cell_type": "code",
   "execution_count": 21,
   "id": "9b8bfa82",
   "metadata": {},
   "outputs": [
    {
     "name": "stdout",
     "output_type": "stream",
     "text": [
      "r2 socre is 0.9880320550288862\n"
     ]
    }
   ],
   "source": [
    "score=r2_score(y_test,dt_ypred)\n",
    "print('r2 socre is',score)"
   ]
  },
  {
   "cell_type": "code",
   "execution_count": 22,
   "id": "c4a0d196",
   "metadata": {},
   "outputs": [],
   "source": [
    "from sklearn.ensemble import RandomForestRegressor\n",
    "rf = RandomForestRegressor()"
   ]
  },
  {
   "cell_type": "code",
   "execution_count": 23,
   "id": "1d1c0d07",
   "metadata": {},
   "outputs": [],
   "source": [
    "rf_model = rf.fit(x_train,y_train)"
   ]
  },
  {
   "cell_type": "code",
   "execution_count": 24,
   "id": "1953c2d6",
   "metadata": {},
   "outputs": [],
   "source": [
    "y_rfpred = rf_model.predict(x_test)"
   ]
  },
  {
   "cell_type": "code",
   "execution_count": 25,
   "id": "5221ff89",
   "metadata": {},
   "outputs": [
    {
     "name": "stdout",
     "output_type": "stream",
     "text": [
      "r2 score is 0.9870114943944068\n"
     ]
    }
   ],
   "source": [
    "score=r2_score(y_test,y_rfpred)\n",
    "print('r2 score is',score)"
   ]
  },
  {
   "cell_type": "code",
   "execution_count": 26,
   "id": "bdb18292",
   "metadata": {},
   "outputs": [],
   "source": [
    "import xgboost as xgb"
   ]
  },
  {
   "cell_type": "code",
   "execution_count": 27,
   "id": "52abb4f0",
   "metadata": {},
   "outputs": [],
   "source": [
    "model_xgb = xgb.XGBRegressor()"
   ]
  },
  {
   "cell_type": "code",
   "execution_count": 28,
   "id": "dbef985d",
   "metadata": {},
   "outputs": [],
   "source": [
    "xgbr = model_xgb.fit(x_train,y_train)"
   ]
  },
  {
   "cell_type": "code",
   "execution_count": 29,
   "id": "657ec899",
   "metadata": {},
   "outputs": [],
   "source": [
    "y_xgbpred = xgbr.predict(x_test)"
   ]
  },
  {
   "cell_type": "code",
   "execution_count": 30,
   "id": "12babba3",
   "metadata": {},
   "outputs": [
    {
     "name": "stdout",
     "output_type": "stream",
     "text": [
      "r2 score is 0.9886627639964183\n"
     ]
    }
   ],
   "source": [
    "score_xg=r2_score(y_test,y_xgbpred)\n",
    "print('r2 score is',score_xg)"
   ]
  },
  {
   "cell_type": "code",
   "execution_count": 31,
   "id": "d9b19307",
   "metadata": {},
   "outputs": [],
   "source": [
    "y_xgbtrain = xgbr.predict(x_train)"
   ]
  },
  {
   "cell_type": "code",
   "execution_count": 32,
   "id": "1a63eba8",
   "metadata": {},
   "outputs": [
    {
     "name": "stdout",
     "output_type": "stream",
     "text": [
      "r2 score is 0.999998495613926\n"
     ]
    }
   ],
   "source": [
    "score_xgtrain=r2_score(y_train,y_xgbtrain)\n",
    "print('r2 score is',score_xgtrain)"
   ]
  },
  {
   "cell_type": "code",
   "execution_count": 33,
   "id": "2326bc0f",
   "metadata": {},
   "outputs": [
    {
     "data": {
      "text/plain": [
       "1    236\n",
       "2    174\n",
       "0    160\n",
       "Name: Project_Size, dtype: int64"
      ]
     },
     "execution_count": 33,
     "metadata": {},
     "output_type": "execute_result"
    }
   ],
   "source": [
    "df['Project_Size'].value_counts()"
   ]
  },
  {
   "cell_type": "code",
   "execution_count": 34,
   "id": "2ffb1058",
   "metadata": {},
   "outputs": [
    {
     "data": {
      "text/plain": [
       "1    268\n",
       "0    230\n",
       "2     71\n",
       "3      1\n",
       "Name: Project_Complexity, dtype: int64"
      ]
     },
     "execution_count": 34,
     "metadata": {},
     "output_type": "execute_result"
    }
   ],
   "source": [
    "df['Project_Complexity'].value_counts()"
   ]
  },
  {
   "cell_type": "code",
   "execution_count": 52,
   "id": "7956f790",
   "metadata": {},
   "outputs": [],
   "source": [
    "import pickle"
   ]
  },
  {
   "cell_type": "code",
   "execution_count": 53,
   "id": "7fb7f11e",
   "metadata": {},
   "outputs": [],
   "source": [
    "file = open('testcasepred.pkl.dat',\"wb\")\n",
    "pickle.dump(xgbr,file)"
   ]
  },
  {
   "cell_type": "code",
   "execution_count": null,
   "id": "8359ceb0",
   "metadata": {},
   "outputs": [],
   "source": []
  }
 ],
 "metadata": {
  "kernelspec": {
   "display_name": "Python 3",
   "language": "python",
   "name": "python3"
  },
  "language_info": {
   "codemirror_mode": {
    "name": "ipython",
    "version": 3
   },
   "file_extension": ".py",
   "mimetype": "text/x-python",
   "name": "python",
   "nbconvert_exporter": "python",
   "pygments_lexer": "ipython3",
   "version": "3.8.8"
  }
 },
 "nbformat": 4,
 "nbformat_minor": 5
}
